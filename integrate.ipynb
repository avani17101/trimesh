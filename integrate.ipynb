{
 "cells": [
  {
   "cell_type": "code",
   "execution_count": 1,
   "metadata": {},
   "outputs": [],
   "source": [
    "import trimesh"
   ]
  },
  {
   "cell_type": "code",
   "execution_count": 2,
   "metadata": {},
   "outputs": [],
   "source": [
    "from trimesh.integrate import symbolic_barycentric"
   ]
  },
  {
   "cell_type": "code",
   "execution_count": 3,
   "metadata": {},
   "outputs": [],
   "source": [
    "mesh = trimesh.load('models/featuretype.STL')"
   ]
  },
  {
   "cell_type": "code",
   "execution_count": 4,
   "metadata": {},
   "outputs": [],
   "source": [
    "integrator, expr = symbolic_barycentric('x**2 + y**2 + z**2')"
   ]
  },
  {
   "cell_type": "code",
   "execution_count": 5,
   "metadata": {},
   "outputs": [
    {
     "data": {
      "text/latex": [
       "$\\displaystyle \\frac{x_{1}^{2}}{12} + \\frac{x_{1} x_{2}}{12} + \\frac{x_{1} x_{3}}{12} + \\frac{x_{2}^{2}}{12} + \\frac{x_{2} x_{3}}{12} + \\frac{x_{3}^{2}}{12} + \\frac{y_{1}^{2}}{12} + \\frac{y_{1} y_{2}}{12} + \\frac{y_{1} y_{3}}{12} + \\frac{y_{2}^{2}}{12} + \\frac{y_{2} y_{3}}{12} + \\frac{y_{3}^{2}}{12} + \\frac{z_{1}^{2}}{12} + \\frac{z_{1} z_{2}}{12} + \\frac{z_{1} z_{3}}{12} + \\frac{z_{2}^{2}}{12} + \\frac{z_{2} z_{3}}{12} + \\frac{z_{3}^{2}}{12}$"
      ],
      "text/plain": [
       "x1**2/12 + x1*x2/12 + x1*x3/12 + x2**2/12 + x2*x3/12 + x3**2/12 + y1**2/12 + y1*y2/12 + y1*y3/12 + y2**2/12 + y2*y3/12 + y3**2/12 + z1**2/12 + z1*z2/12 + z1*z3/12 + z2**2/12 + z2*z3/12 + z3**2/12"
      ]
     },
     "execution_count": 5,
     "metadata": {},
     "output_type": "execute_result"
    }
   ],
   "source": [
    "expr"
   ]
  },
  {
   "cell_type": "code",
   "execution_count": 6,
   "metadata": {},
   "outputs": [],
   "source": [
    "# the integrator will quickly evaluate the surface integral for each triangle in the mesh\n",
    "result = integrator(mesh)"
   ]
  },
  {
   "cell_type": "code",
   "execution_count": 7,
   "metadata": {},
   "outputs": [
    {
     "data": {
      "text/plain": [
       "array([0.03470634, 0.03479687, 0.03371525, ..., 0.09383138, 0.41341146,\n",
       "       0.35091146])"
      ]
     },
     "execution_count": 7,
     "metadata": {},
     "output_type": "execute_result"
    }
   ],
   "source": [
    "\n",
    "result"
   ]
  },
  {
   "cell_type": "code",
   "execution_count": 8,
   "metadata": {},
   "outputs": [
    {
     "data": {
      "text/plain": [
       "((3476,), (3476, 3))"
      ]
     },
     "execution_count": 8,
     "metadata": {},
     "output_type": "execute_result"
    }
   ],
   "source": [
    "\n",
    "result.shape, mesh.faces.shape"
   ]
  },
  {
   "cell_type": "code",
   "execution_count": 9,
   "metadata": {},
   "outputs": [
    {
     "data": {
      "text/plain": [
       "185.58755255808592"
      ]
     },
     "execution_count": 9,
     "metadata": {},
     "output_type": "execute_result"
    }
   ],
   "source": [
    "result.sum()"
   ]
  }
 ],
 "metadata": {
  "kernelspec": {
   "display_name": "Python 3",
   "language": "python",
   "name": "python3"
  },
  "language_info": {
   "codemirror_mode": {
    "name": "ipython",
    "version": 3
   },
   "file_extension": ".py",
   "mimetype": "text/x-python",
   "name": "python",
   "nbconvert_exporter": "python",
   "pygments_lexer": "ipython3",
   "version": "3.7.3"
  }
 },
 "nbformat": 4,
 "nbformat_minor": 2
}
